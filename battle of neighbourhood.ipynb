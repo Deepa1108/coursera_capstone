{
    "nbformat_minor": 1, 
    "cells": [
        {
            "source": "Introduction/Buisness Problem", 
            "cell_type": "markdown", 
            "metadata": {
                "collapsed": true
            }
        }, 
        {
            "source": "Navi-Mumbai:  is a planned city off the west coast of the Indian state of Maharashtra.The city is divided into two parts, North Navi Mumbai and South Navi Mumbai.\nNavi Mumbai is home to various educational institutions,various multinational corporations, various recreational facilities such as a Golf course, Central Park etc.\nThrough this project i will explore the Navi Mumbai city.", 
            "cell_type": "markdown", 
            "metadata": {}
        }, 
        {
            "source": "Data Section", 
            "cell_type": "markdown", 
            "metadata": {}
        }, 
        {
            "source": "I will use Pgeocode(Postal code geocoding and distance calculations) to find the postal codes of city. By using the postal codes i will explore the city and find out each and every place in this beautiful city. By using the postal code i will explore restraunts, places to visit of each and every area of city. this will help visitors to explore the city easily.", 
            "cell_type": "markdown", 
            "metadata": {}
        }, 
        {
            "execution_count": null, 
            "cell_type": "code", 
            "metadata": {}, 
            "outputs": [], 
            "source": ""
        }
    ], 
    "metadata": {
        "kernelspec": {
            "display_name": "Python 3.5", 
            "name": "python3", 
            "language": "python"
        }
    }, 
    "nbformat": 4
}